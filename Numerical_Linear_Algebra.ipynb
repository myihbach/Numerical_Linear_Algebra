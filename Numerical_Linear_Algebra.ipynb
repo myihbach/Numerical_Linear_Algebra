{
 "cells": [
  {
   "cell_type": "markdown",
   "metadata": {},
   "source": [
    "---\n",
    "## <font color=\"ushua\"> IHBACH</font> Mohamed Yassine\n",
    "---\n",
    "### <font color=\"green\"> Numerical Linear Algebra\n",
    "### <font color=\"green\"> MSD1 , AL KHWARIZMI , UM6P \n",
    "---"
   ]
  },
  {
   "cell_type": "markdown",
   "metadata": {},
   "source": [
    "### <font color=\"ushua\"> Les algorithmes suivants sont testés par l'exemple suivant :\n",
    "<br>\n",
    "$\n",
    "\\begin{bmatrix}\n",
    "5 & 1 & 2\\\\\n",
    "1 & 7 & 3\\\\\n",
    "2 & 3 & 6\n",
    "\\end{bmatrix}\n",
    "\\begin{bmatrix}\n",
    "x_1\\\\\n",
    "x_2\\\\\n",
    "x_3\n",
    "\\end{bmatrix} = \n",
    "\\begin{bmatrix}\n",
    "1\\\\\n",
    "5\\\\\n",
    "6\n",
    "\\end{bmatrix}\n",
    "~~$\n",
    "    <font  size=\"4px\" ><b>  qui a pour solution exacte</b> </font>\n",
    "$~~ x = \\begin{bmatrix}\n",
    "\\frac{-3}{13}\\\\\n",
    "\\frac{4}{11}\\\\\n",
    "\\frac{128}{143}\n",
    "\\end{bmatrix} = \\begin{bmatrix}\n",
    "-0.230769\\\\\n",
    "0.363636\\\\\n",
    "0.895104\n",
    "\\end{bmatrix}\n",
    "$\n",
    "\n",
    "---"
   ]
  },
  {
   "cell_type": "markdown",
   "metadata": {
    "id": "VQVIL1JNf27-"
   },
   "source": [
    "---\n",
    "## <font color=\"ushua\"> Algorithm 1 : GMRS\n",
    "    \n",
    "---"
   ]
  },
  {
   "cell_type": "code",
   "execution_count": 13,
   "metadata": {
    "colab": {
     "base_uri": "https://localhost:8080/"
    },
    "id": "SLy3_Dbkf3Py",
    "outputId": "ed312d51-8de8-449d-ffd7-0a76bacdd00e"
   },
   "outputs": [
    {
     "name": "stdout",
     "output_type": "stream",
     "text": [
      "\n",
      "Solution X =  [-0.23061365  0.3637526   0.89484384]\n"
     ]
    }
   ],
   "source": [
    "import numpy as np\n",
    "\n",
    "def GMRES(A,b,x0,m,tol):\n",
    "    \n",
    "    while(1):\n",
    "        r = b - A @ x0\n",
    "        H = np.zeros([m,m+1])\n",
    "        V = np.zeros([m,b.size])\n",
    "        beta = np.linalg.norm(r)\n",
    "        if( beta < tol ) : break\n",
    "        e1 = np.zeros(m+1)\n",
    "        e1[0] = 1\n",
    "        V[0,:] = r / beta\n",
    "        for j in range(m):\n",
    "            w = A @ V[j,:]\n",
    "            for i in range(j):\n",
    "                H[j,i] = w @ V[i,:]\n",
    "                w = w-H[j,i]*V[i,:]\n",
    "            alpha = np.linalg.norm(w,ord=2)\n",
    "            H[j,j+1]=alpha\n",
    "            if (j==m-1) or (alpha==0):\n",
    "                break;\n",
    "            V[j+1,:]=w/alpha\n",
    "        y= np.linalg.pinv(H.T) @ (beta * e1.T)\n",
    "        x0= x0 + V.T @ y\n",
    "\n",
    "    return x0\n",
    "\n",
    "\n",
    "x0 , b , A  = np.zeros(3) , np.array([1,5,6]) , np.array([[5,1,2],[1,7,3],[2,3,6]])\n",
    "print(\"\\nSolution X = \",GMRES(A,b,x0,3,0.001))"
   ]
  },
  {
   "cell_type": "markdown",
   "metadata": {
    "id": "QLPxpZoAbdu8"
   },
   "source": [
    "---\n",
    "## <font color=\"ushua\"> Algorithm 2 : The symmetric Lanczos\n",
    "    \n",
    "---"
   ]
  },
  {
   "cell_type": "code",
   "execution_count": 16,
   "metadata": {
    "colab": {
     "base_uri": "https://localhost:8080/"
    },
    "id": "x1FtoXCZbeDO",
    "outputId": "b47785c0-6ad2-4789-8d4b-1ccd9175c597"
   },
   "outputs": [
    {
     "name": "stdout",
     "output_type": "stream",
     "text": [
      "\n",
      "Solution X =  [-0.23076923  0.36363636  0.8951049 ]\n"
     ]
    }
   ],
   "source": [
    "import numpy as np\n",
    "\n",
    "def Symmetric_Lanczos(A,b,x0,m):\n",
    "    V = np.zeros([m,b.size])\n",
    "    a = np.zeros(m)\n",
    "    e1 = np.zeros(m);e1[0]=1\n",
    "    bi = np.zeros(m)\n",
    "    r = b - A @ x0\n",
    "    betha = np.linalg.norm(r)\n",
    "    v = r / betha\n",
    "    V[0,:] = v\n",
    "    for j in range(m):\n",
    "        w = A @ V[j,:] -  bi[j]*V[j-1,:]\n",
    "        a[j] = w @ V[j,:]\n",
    "        w = w - a[j] * V[j,:]\n",
    "        B = np.linalg.norm(w,ord=2)\n",
    "        if (B==0) or (j==m-1):\n",
    "              break\n",
    "        bi[j+1] = B\n",
    "        V[j+1,:] = w / B\n",
    "    Tm = np.diag(a) + np.diag(bi[1:],1) + np.diag(bi[1:],-1)\n",
    "    ym = betha * np.linalg.inv(Tm) @ e1\n",
    "    V = V.T\n",
    "    xm = x0 + V @ ym\n",
    "    return xm\n",
    "\n",
    "x0 , b , A  = np.zeros(3) , np.array([1,5,6]) , np.array([[5,1,2],[1,7,3],[2,3,6]])\n",
    "print(\"\\nSolution X = \",Symmetric_Lanczos(A,b,x0,3))\n"
   ]
  },
  {
   "cell_type": "markdown",
   "metadata": {
    "id": "4JeaOk_spLFK"
   },
   "source": [
    "---\n",
    "## <font color=\"ushua\"> Algorithm 3 : The Nonsymmetric Lanczos\n",
    "    \n",
    "---"
   ]
  },
  {
   "cell_type": "code",
   "execution_count": 24,
   "metadata": {
    "colab": {
     "base_uri": "https://localhost:8080/"
    },
    "id": "f0dC9dZKnJnQ",
    "outputId": "d5a643e2-27be-4200-bbd8-bdf8bc11bfdb"
   },
   "outputs": [
    {
     "name": "stdout",
     "output_type": "stream",
     "text": [
      "\n",
      "Solution X =  [-0.23076923  0.36363636  0.8951049 ]\n"
     ]
    }
   ],
   "source": [
    "import numpy as np\n",
    "def Nonsymmetric_Lanczos(A,b,x0,m):\n",
    "    V = np.zeros([m,b.size])\n",
    "    W = np.zeros([m,b.size])\n",
    "    a = np.zeros(m)\n",
    "    e1 = np.zeros(m);e1[0]=1\n",
    "    bi = np.zeros(m)\n",
    "    di = np.zeros(m)\n",
    "    r = b - A @ x0\n",
    "    betha = np.linalg.norm(r)\n",
    "    v = r / betha\n",
    "    V[0,:] = v\n",
    "    W[0,:] = v\n",
    "    for j in range(m):\n",
    "        Av = A @ V[j,:]\n",
    "        Atw = A.T @ W[j,:]\n",
    "        a[j] = Av @ W[j,:]\n",
    "        v = Av - a[j] * V[j,:] - bi[j] * V[j-1,:]\n",
    "        w = Atw - a[j] * W[j,:] - di[j] * W[j-1,:]\n",
    "        D = np.sqrt(v @ w.T)\n",
    "        if (D==0) or (j==m-1):break;\n",
    "        di[j+1]=D\n",
    "        bi[j+1] = (v @ w.T) / D\n",
    "        V[j+1,:] = v/bi[j+1]\n",
    "        W[j+1,:] = w/di[j+1]\n",
    "    Tm = np.diag(a) + np.diag(bi[1:],1) + np.diag(di[1:],-1)\n",
    "    ym = betha * np.linalg.inv(Tm) @ e1\n",
    "    V = V.T\n",
    "    xm = x0 + V @ ym\n",
    "\n",
    "    return xm\n",
    "\n",
    "x0 , b , A  = np.zeros(3) , np.array([1,5,6]) , np.array([[5,1,2],[1,7,3],[2,3,6]])\n",
    "print(\"\\nSolution X = \",Nonsymmetric_Lanczos(A,b,x0,5))\n"
   ]
  },
  {
   "cell_type": "markdown",
   "metadata": {
    "id": "_I2NQZluEJLv"
   },
   "source": [
    "---\n",
    "## <font color=\"ushua\"> Algorithm 4 :  BICGSTAB\n",
    "    \n",
    "---"
   ]
  },
  {
   "cell_type": "code",
   "execution_count": 27,
   "metadata": {
    "colab": {
     "base_uri": "https://localhost:8080/"
    },
    "id": "_jfuhEZOEJgj",
    "outputId": "68b696cd-5f9d-40fd-f82d-c8ba001709d9"
   },
   "outputs": [
    {
     "name": "stdout",
     "output_type": "stream",
     "text": [
      "\n",
      "Solution X =  [-0.22053643  0.36882583  0.87040707]\n"
     ]
    }
   ],
   "source": [
    "import numpy as np\n",
    "\n",
    "def BICGSTAB(A,b,x0,jmax):\n",
    "    r = b - A @ x0\n",
    "    r0 = r.copy()\n",
    "    p = r.copy()\n",
    "    x = x0.copy()\n",
    "    for j in range(jmax):\n",
    "        Ap = A @ p\n",
    "        a = (r.T @ r0) / (Ap.T @ r0) \n",
    "        s = r-Ap*a\n",
    "        As = A @ s\n",
    "        w = (As.T @ s) / (As.T @ As)\n",
    "        x = x+p*a+s*w\n",
    "        rplus = s-As*w \n",
    "        beta = (rplus.T @ r0) / (r.T @ r0)#*(a/w)\n",
    "        p = rplus+(p-Ap*w)*beta\n",
    "        r = rplus.copy()\n",
    "    return x\n",
    "\n",
    "x0 , b , A  = np.zeros(3) , np.array([1,5,6]) , np.array([[5,1,2],[1,7,3],[2,3,6]])\n",
    "print(\"\\nSolution X = \",BICGSTAB(A,b,x0,3))"
   ]
  },
  {
   "cell_type": "markdown",
   "metadata": {
    "id": "XU9YLXFlljXV"
   },
   "source": [
    "---\n",
    "## <font color=\"ushua\"> Algorithm 5 :  The BiConjugate Gradien\n",
    "    \n",
    "---"
   ]
  },
  {
   "cell_type": "code",
   "execution_count": 29,
   "metadata": {
    "colab": {
     "base_uri": "https://localhost:8080/"
    },
    "id": "oor-79wwmYSF",
    "outputId": "c8c5c9d0-1272-415d-c3b3-82dbda6b7e17"
   },
   "outputs": [
    {
     "name": "stdout",
     "output_type": "stream",
     "text": [
      "\n",
      "Solution X =  [-0.23076923  0.36363636  0.8951049 ]\n"
     ]
    }
   ],
   "source": [
    "import numpy as np\n",
    "\n",
    "def BCG(A,b,x0,jmax):\n",
    "    r = b - A @ x0\n",
    "    r0 = r.copy()\n",
    "    r0 = r0/(np.linalg.norm(r0)**2)\n",
    "    p = r.copy()\n",
    "    p0 = r0.copy()\n",
    "    x = x0.copy()\n",
    "    for j in range(jmax):\n",
    "        Ap = A.dot(p)\n",
    "        a = (r.T @ r0)/ (Ap.transpose() @ p0 )\n",
    "        x = x+p*a\n",
    "        rplus = r-Ap*a\n",
    "        Atp = A.T @ p0\n",
    "        r0plus = r0 - Atp * a \n",
    "        beta = (rplus.T @ r0plus )  /( r.T @ r0 ) #*(a/w)\n",
    "        p = rplus+(p)*beta\n",
    "        p0 = r0plus+(p0)*beta\n",
    "        r = rplus.copy()\n",
    "        r0 = r0plus.copy()\n",
    "    return x\n",
    "\n",
    "\n",
    "x0 , b , A  = np.zeros(3) , np.array([1,5,6]) , np.array([[5,1,2],[1,7,3],[2,3,6]])\n",
    "print(\"\\nSolution X = \",BCG(A,b,x0,3))\n"
   ]
  },
  {
   "cell_type": "markdown",
   "metadata": {
    "id": "B1f9c8BAZPtj"
   },
   "source": [
    "---\n",
    "## <font color=\"ushua\"> Algorithm 6 :  The Golub_Kuhan Bidiagobalisation\n",
    "    \n",
    "---"
   ]
  },
  {
   "cell_type": "code",
   "execution_count": 34,
   "metadata": {
    "colab": {
     "base_uri": "https://localhost:8080/"
    },
    "id": "HKD33QZGZLoG",
    "outputId": "1e05870a-a26b-4f59-8ca5-70797be2fa98"
   },
   "outputs": [
    {
     "name": "stdout",
     "output_type": "stream",
     "text": [
      "========== Matrice A ========\n"
     ]
    },
    {
     "data": {
      "text/plain": [
       "array([[5, 1, 2],\n",
       "       [1, 7, 3],\n",
       "       [2, 3, 6]])"
      ]
     },
     "metadata": {},
     "output_type": "display_data"
    },
    {
     "name": "stdout",
     "output_type": "stream",
     "text": [
      "========== Matrice U ========\n"
     ]
    },
    {
     "data": {
      "text/plain": [
       "array([[1.        , 0.        , 0.34777364],\n",
       "       [0.        , 0.58430473, 0.2064615 ],\n",
       "       [0.        , 0.81153434, 0.91456391]])"
      ]
     },
     "metadata": {},
     "output_type": "display_data"
    },
    {
     "name": "stdout",
     "output_type": "stream",
     "text": [
      "========== Matrice V ========\n"
     ]
    },
    {
     "data": {
      "text/plain": [
       "array([[0.91287093, 0.02363654, 0.04423196],\n",
       "       [0.18257419, 0.71176938, 0.        ],\n",
       "       [0.36514837, 0.        , 0.82399313]])"
      ]
     },
     "metadata": {},
     "output_type": "display_data"
    }
   ],
   "source": [
    "import numpy as np\n",
    "\n",
    "def GKB(A,u):\n",
    "    [n,m] = A.shape\n",
    "    U = np.zeros([m,n])\n",
    "    V = np.zeros([m,n])\n",
    "    a = np.zeros([n])\n",
    "    b = np.zeros([n])\n",
    "    U[0,:] = u\n",
    "    a[0] = np.linalg.norm(A.T @  U[0,:])\n",
    "    V[0,:] = (A.T @ U[0,:]) / a[0]\n",
    "    for i  in range(1,m):\n",
    "        Av = A @ V[i-1,:]\n",
    "        U[i,:] = Av - a[i-1] * U[:,i-1]\n",
    "        b[i] = np.linalg.norm(U[i,:])\n",
    "        U[i,:] = U[i,:] / b[i]\n",
    "        V[i,:] = (A.T @  U[i,:]) - b[i] * V[i-1,:]\n",
    "        a[i] = np.linalg.norm(V[i,:])\n",
    "        V[i,:] = V[:,i] / a[i]\n",
    "    return U.T , V.T\n",
    "\n",
    "u1 , A  = np.array([1,0,0]) , np.array([[5,1,2],[1,7,3],[2,3,6]])\n",
    "u , v = GKB(A,u1)\n",
    "print(\"========== Matrice A ========\")\n",
    "display(A)\n",
    "print(\"========== Matrice U ========\")\n",
    "display(u)\n",
    "print(\"========== Matrice V ========\")\n",
    "display(v)\n",
    "\n"
   ]
  }
 ],
 "metadata": {
  "colab": {
   "collapsed_sections": [],
   "name": "HPC_By_Mehdi_Jaa.ipynb",
   "provenance": []
  },
  "kernelspec": {
   "display_name": "Python 3",
   "language": "python",
   "name": "python3"
  },
  "language_info": {
   "codemirror_mode": {
    "name": "ipython",
    "version": 3
   },
   "file_extension": ".py",
   "mimetype": "text/x-python",
   "name": "python",
   "nbconvert_exporter": "python",
   "pygments_lexer": "ipython3",
   "version": "3.7.6"
  }
 },
 "nbformat": 4,
 "nbformat_minor": 1
}
